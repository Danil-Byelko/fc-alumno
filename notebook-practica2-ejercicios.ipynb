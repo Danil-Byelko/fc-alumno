{
 "cells": [
  {
   "cell_type": "markdown",
   "id": "2d23f5e3",
   "metadata": {},
   "source": [
    "# <h2 align=\"center\"><font color='blue'>GCID Fundamentos de Computadores</font></h2>"
   ]
  },
  {
   "cell_type": "markdown",
   "id": "7673defa",
   "metadata": {},
   "source": [
    "# <h1 align=\"center\"><font color='blue'>Práctica 2: Control de versiones con Git</font></h1>"
   ]
  },
  {
   "cell_type": "markdown",
   "id": "b70d028f",
   "metadata": {},
   "source": [
    "<font size=\"4\">  \n",
    "    <span style=\"color: red;\">No olvides configurar Git para usar tu nombre y apellido(s), y tu dirección de correo electrónico universitario antes de comenzar.\n",
    "    </span>\n",
    "</font>"
   ]
  },
  {
   "cell_type": "markdown",
   "id": "1da65b82",
   "metadata": {},
   "source": [
    "Edita las primeras líneas de la siguiente celda con tu nombre y email y ejecútala para configurar tu entorno Git antes de empezar."
   ]
  },
  {
   "cell_type": "code",
   "execution_count": null,
   "id": "ccf7e4f4",
   "metadata": {},
   "outputs": [],
   "source": [
    "# Establece tu identidad\n",
    "git config --global user.name \"Nombre Apellido1 [Apellido2]\"\n",
    "git config --global user.email \"alumno@um.es\"\n",
    "\n",
    "# Establece el editor por defecto\n",
    "# para los mensajes de commit\n",
    "git config --global core.editor \"gedit\"\n",
    "# Establece el nombre de la rama por defecto a \"main\"\n",
    "git config --global init.defaultBranch main"
   ]
  },
  {
   "cell_type": "markdown",
   "id": "e26bf9e0",
   "metadata": {},
   "source": [
    "<br>\n",
    "<font size=\"5\">  \n",
    "    <span style=\"color: red;\"><b>IMPORTANTE:</b><br> Añade este fichero a tu repositorio-bitácora \"fc-alumno\" <b>ANTES</b> de comenzar a realizar los ejercicios.\n",
    "    </span>\n",
    "</font>  \n",
    "<font size=\"4\">  \n",
    "    Sigue las instrucciones a continuación.\n",
    "</font>"
   ]
  },
  {
   "cell_type": "markdown",
   "id": "a8c5afb1",
   "metadata": {},
   "source": [
    "Recuerda que para poder registrar tu trabajo en tu bitácora personal de prácticas, debes evitar trabajar en una copia de este *notebook* que no esté bajo control de versiones en Git en tu repositorio. Por ello, **ANTES DE REALIZAR NINGÚN CAMBIO en este fichero asegúrate de COLOCARLO DENTRO DIRECTORIO DE TU REPOSITORIO-BITÁCORA `fc-alumno`** y añadirlo al repositorio:\n",
    "1. Cierra esta pestaña del navegador sin guardar los cambios.\n",
    "2. Muévelo desde donde lo hayas descargado del AV (p.ej. `$HOME/Descargas`) al directorio donde tengas tu repositorio (se recomienda `$HOME/fc-alumno`).\n",
    "3. Añádelo al repositorio:\n",
    "    * `git add notebook-practica2-ejercicios.ipynb`\n",
    "    * `git commit -m \"Añadiendo el notebook de ejercicios de la práctica 2\"`\n",
    "\n",
    "**Recuerda que debes hacer lo propio con cada notebook de prácticas antes de empezar a trabajar en él.**\n",
    "\n",
    "Tras seguir las indicaciones anteriores, al arrancar este notebook deberías observar que tu directorio de trabajo actual es `$HOME/fc-alumno` y que el comando `git log` muestra los últimos commits que realizaste a tu repositorio-bitácora. "
   ]
  },
  {
   "cell_type": "code",
   "execution_count": null,
   "id": "8227ea24",
   "metadata": {},
   "outputs": [],
   "source": [
    "pwd"
   ]
  },
  {
   "cell_type": "code",
   "execution_count": null,
   "id": "5e5e6218",
   "metadata": {},
   "outputs": [],
   "source": [
    "git log"
   ]
  },
  {
   "cell_type": "markdown",
   "id": "3c9a6d15",
   "metadata": {},
   "source": [
    "Si has seguido los pasos anteriores, el último *commit* debería ser tuyo (tu nombre y apellidos y con mensaje *Añadiendo el notebook de ejercicios de la práctica 2*). Si no es así, asegúrate de seguir los pasos anteriores correctamente."
   ]
  },
  {
   "cell_type": "markdown",
   "id": "be25f524",
   "metadata": {},
   "source": [
    "<font size=\"4\">  \n",
    "    <span style=\"color: red;\"><b>NO COMIENCES LOS EJERCICIOS</b> HASTA QUE HAYAS CONFIRMADO QUE ESTE NOTEBOOK ESTÁ BAJO CONTROL DE VERSIONES EN TU REPOSITORIO `fc-alumno`\n",
    "    </span>\n",
    "</font>    "
   ]
  },
  {
   "cell_type": "markdown",
   "id": "e0e61f4f",
   "metadata": {},
   "source": [
    "## Comandos básicos de Git: Flujo de trabajo en un repositorio local\n",
    "\n",
    "### Crear un repositorio, mostrar el estado del árbol de trabajo y versionar archivos nuevos.\n"
   ]
  },
  {
   "cell_type": "code",
   "execution_count": null,
   "id": "fd81f067",
   "metadata": {},
   "outputs": [],
   "source": [
    "# Muestra la configuración global mediante un comando git\n"
   ]
  },
  {
   "cell_type": "markdown",
   "id": "d06b6b26",
   "metadata": {},
   "source": [
    "SALIDA: \n",
    "```bash\n",
    "user.name=Alumno Apellido\n",
    "user.email=alumno@upct.es\n",
    "```\n"
   ]
  },
  {
   "cell_type": "code",
   "execution_count": null,
   "id": "8c3526bb",
   "metadata": {},
   "outputs": [],
   "source": [
    "# Muestra el contenido del fichero \n",
    "# de configuración *GLOBAL* de git (~/.gitconfig)\n"
   ]
  },
  {
   "cell_type": "markdown",
   "id": "c3a1c41f",
   "metadata": {},
   "source": [
    "SALIDA:\n",
    "```bash\n",
    "[user]\n",
    "\tname = Victoria Beltran\n",
    "\temail = victoria.beltran@upct.es\n",
    "```\n"
   ]
  },
  {
   "cell_type": "markdown",
   "id": "9c9abd3c",
   "metadata": {},
   "source": [
    "Deberías ver tu nombre y email en la configuración. Si no es así, configura Git como se indica al principio del *notebook*."
   ]
  },
  {
   "cell_type": "code",
   "execution_count": null,
   "id": "96c574d0",
   "metadata": {},
   "outputs": [],
   "source": [
    "# Sitúate en tu directorio personal ($HOME)\n"
   ]
  },
  {
   "cell_type": "code",
   "execution_count": null,
   "id": "91da112d",
   "metadata": {},
   "outputs": [],
   "source": [
    "# Crea un directorio llamado \"p2a-ejercicio\"\n"
   ]
  },
  {
   "cell_type": "code",
   "execution_count": null,
   "id": "352abf5b",
   "metadata": {},
   "outputs": [],
   "source": [
    "# Cámbiate al directorio que acabas de crear\n"
   ]
  },
  {
   "cell_type": "code",
   "execution_count": null,
   "id": "2cb58bc5",
   "metadata": {},
   "outputs": [],
   "source": [
    "# Crea un repositorio vacío\n"
   ]
  },
  {
   "cell_type": "markdown",
   "id": "757de281",
   "metadata": {},
   "source": [
    "SALIDA:\n",
    "```bash\n",
    "ayuda: Usando 'master' como el nombre de la rama inicial. Este nombre de rama predeterminado\n",
    "ayuda: está sujeto a cambios. Para configurar el nombre de la rama inicial para usar en todos\n",
    "ayuda: de sus nuevos repositorios, reprimiendo esta advertencia, llama a:\n",
    "ayuda: \n",
    "ayuda: \tgit config --global init.defaultBranch <nombre>\n",
    "ayuda: \n",
    "ayuda: Los nombres comúnmente elegidos en lugar de 'master' son 'main', 'trunk' y\n",
    "ayuda: 'development'. Se puede cambiar el nombre de la rama recién creada mediante este comando:\n",
    "ayuda: \n",
    "ayuda: \tgit branch -m <nombre>\n",
    "\n",
    "Inicializado repositorio Git vacío en /home/alumno/p2a-ejercicio/.git/\n",
    "```"
   ]
  },
  {
   "cell_type": "code",
   "execution_count": null,
   "id": "34019ca2",
   "metadata": {},
   "outputs": [],
   "source": [
    "# Haz un listado largo de *todos* los ficheros\n"
   ]
  },
  {
   "cell_type": "markdown",
   "id": "2283f9fb",
   "metadata": {},
   "source": [
    "SALIDA:\n",
    "```bash\n",
    "total 12\n",
    "drwxrwxr-x 3 alumno alumno 4096 ago 13 16:52 .\n",
    "drwxrwxr-x 3 alumno alumno 4096 ago 13 16:52 ..\n",
    "drwxrwxr-x 7 alumno alumno 4096 ago 13 16:52 .git\n",
    "```"
   ]
  },
  {
   "cell_type": "code",
   "execution_count": null,
   "id": "a49e7a8c",
   "metadata": {},
   "outputs": [],
   "source": [
    "# Ejecuta esta celda para crea un fichero \n",
    "# llamado \"git-commands\"\n"
   ]
  },
  {
   "cell_type": "code",
   "execution_count": null,
   "id": "89413566",
   "metadata": {},
   "outputs": [],
   "source": [
    "# Muestra el contenido del fichero git-commands\n"
   ]
  },
  {
   "cell_type": "markdown",
   "id": "cf810389",
   "metadata": {},
   "source": [
    "SALIDA:\n",
    "```bash\n",
    "LISTA DE COMANDOS DE GIT\n",
    "```"
   ]
  },
  {
   "cell_type": "code",
   "execution_count": null,
   "id": "5c63e53f",
   "metadata": {},
   "outputs": [],
   "source": [
    "# Muestra el estado del árbol de trabajo\n"
   ]
  },
  {
   "cell_type": "markdown",
   "id": "d96603f7",
   "metadata": {},
   "source": [
    "SALIDA:\n",
    "```bash\n",
    "En la rama master\n",
    "\n",
    "No hay commits todavía\n",
    "\n",
    "Archivos sin seguimiento:\n",
    "\n",
    "  (usa \"git add <archivo>...\" para incluirlo a lo que se será confirmado)\n",
    "\n",
    "\tgit-commands\n",
    "\n",
    "no hay nada agregado al commit pero hay archivos sin seguimiento presentes (usa \"git add\" para hacerles seguimiento)\n",
    "```"
   ]
  },
  {
   "cell_type": "code",
   "execution_count": null,
   "id": "2062eccd",
   "metadata": {},
   "outputs": [],
   "source": [
    "# Añade el fichero \"git-commands\" al índice\n"
   ]
  },
  {
   "cell_type": "code",
   "execution_count": null,
   "id": "28c95973",
   "metadata": {},
   "outputs": [],
   "source": [
    "# Crea un directorio llamado \"other\"\n"
   ]
  },
  {
   "cell_type": "code",
   "execution_count": null,
   "id": "43d5224c",
   "metadata": {},
   "outputs": [],
   "source": [
    "# Copia el fichero ~/.gitconfig al directorio \"other\"\n"
   ]
  },
  {
   "cell_type": "code",
   "execution_count": null,
   "id": "04b4e4f6",
   "metadata": {},
   "outputs": [],
   "source": [
    "# Muestra el estado del árbol de trabajo\n"
   ]
  },
  {
   "cell_type": "markdown",
   "id": "27aa2eba",
   "metadata": {},
   "source": [
    "SALIDA:\n",
    "```bash\n",
    "En la rama master\n",
    "No hay commits todavía\n",
    "Cambios a ser confirmados:\n",
    "\n",
    "  (usa \"git rm --cached <archivo>...\" para sacar del área de stage)\n",
    "\n",
    "\tnuevos archivos: git-commands\n",
    "\n",
    "Archivos sin seguimiento:\n",
    "\n",
    "  (usa \"git add <archivo>...\" para incluirlo a lo que se será confirmado)\n",
    "\n",
    "\tother/\n",
    "\n",
    "```\n"
   ]
  },
  {
   "cell_type": "code",
   "execution_count": null,
   "id": "97585f7d",
   "metadata": {},
   "outputs": [],
   "source": [
    "# Muestra el estado del árbol del trabajo pero sólo\n",
    "# para el directorio \"other\"\n"
   ]
  },
  {
   "cell_type": "markdown",
   "id": "92c6e010",
   "metadata": {},
   "source": [
    "SALIDA:\n",
    "```bash\n",
    "En la rama master\n",
    "No hay commits todavía\n",
    "Archivos sin seguimiento:\n",
    "\n",
    "  (usa \"git add <archivo>...\" para incluirlo a lo que se será confirmado)\n",
    "\n",
    "\tother/\n",
    "\n",
    "no hay nada agregado al commit pero hay archivos sin seguimiento presentes (usa \"git add\" para hacerles seguimiento)\n",
    "```"
   ]
  },
  {
   "cell_type": "markdown",
   "id": "d321c92e",
   "metadata": {},
   "source": [
    "- ¿En qué estado está el fichero `git-commands`?\n",
    "\n",
    "RESPUESTA: "
   ]
  },
  {
   "cell_type": "markdown",
   "id": "98602d6b",
   "metadata": {},
   "source": [
    "- ¿En qué estado está el fichero `other/.gitconfig`? \n",
    "\n",
    "RESPUESTA: "
   ]
  },
  {
   "cell_type": "markdown",
   "id": "711a651b",
   "metadata": {},
   "source": [
    "### Confirmar cambios al repositorio, ver diferencias entre áreas y ver el historial de confirmaciones"
   ]
  },
  {
   "cell_type": "code",
   "execution_count": null,
   "id": "f6704726",
   "metadata": {},
   "outputs": [],
   "source": [
    "# Confirma los cambios del índice al repositorio con el mensaje \"Añadiendo fichero con lista de comandos\"  \n"
   ]
  },
  {
   "cell_type": "markdown",
   "id": "262c59cf",
   "metadata": {},
   "source": [
    "SALIDA:\n",
    "```bash\n",
    "[master (commit-raíz) c40926a] Añadiendo fichero con lista de comandos\n",
    " 1 file changed, 1 insertion(+)\n",
    " create mode 100644 git-commands\n",
    "```"
   ]
  },
  {
   "cell_type": "code",
   "execution_count": null,
   "id": "2f710e53",
   "metadata": {},
   "outputs": [],
   "source": [
    "# Muestra el historial de commits del repositorio\n"
   ]
  },
  {
   "cell_type": "markdown",
   "id": "b89e8ee1",
   "metadata": {},
   "source": [
    "SALIDA:\n",
    "```bash\n",
    "commit c40926a85624f26c3520489b98c7006db7ded8a6 (HEAD -> master)\n",
    "Author: Alumno Apellido <alumno@upct.es>\n",
    "Date:   Tue Aug 13 16:57:59 2024 +0200\n",
    "\n",
    "    Añadiendo fichero con lista de comandos\n",
    "```"
   ]
  },
  {
   "cell_type": "code",
   "execution_count": null,
   "id": "6a5ba295",
   "metadata": {},
   "outputs": [],
   "source": [
    "# Edita el fichero \"git-commands\" con gedit,\n",
    "# añade los siguientes 3 comandos, guarda los \n",
    "# cambios y cierra la ventana de gedit al acabar:\n",
    "# git init: Para crear un repo vacío\n",
    "# git add: Para añadir cambios al índice (stage)\n",
    "# git commit: Para confirmar los cambios\n",
    "echo \"git init: Para crear un repo vacío\" >> git-commands\n",
    "echo \"git add: Para añadir cambios al índice (stage)\" >> git-commands\n",
    "echo \"git commit: Para confirmar los cambios\" >> git-commands"
   ]
  },
  {
   "cell_type": "code",
   "execution_count": null,
   "id": "09dc940b",
   "metadata": {},
   "outputs": [],
   "source": [
    "# Muestra el contenido del fichero \"git-commands\"\n"
   ]
  },
  {
   "cell_type": "markdown",
   "id": "824b97e7",
   "metadata": {},
   "source": [
    "SALIDA:\n",
    "```bash\n",
    "LISTA DE COMANDOS DE GIT\n",
    "git init: Para crear un repo vacío\n",
    "git add: Para añadir cambios al índice (stage)\n",
    "git commit: Para confirmar los cambios\n",
    "```"
   ]
  },
  {
   "cell_type": "code",
   "execution_count": null,
   "id": "d2d9c377",
   "metadata": {},
   "outputs": [],
   "source": [
    "# Muestra las diferencias entre la versión de\n",
    "# \"git-commands\" en el repositorio y \n",
    "# en el árbol de trabajo\n"
   ]
  },
  {
   "cell_type": "markdown",
   "id": "c3b50d9b",
   "metadata": {},
   "source": [
    "SALIDA:\n",
    "```bash\n",
    "diff --git a/git-commands b/git-commands\n",
    "index 5b28c00..9451c78 100644\n",
    "--- a/git-commands\n",
    "+++ b/git-commands\n",
    "@@ -1 +1,4 @@\n",
    "\n",
    " LISTA DE COMANDOS DE GIT\n",
    "+git init: Para crear un repo vacío\n",
    "+git add: Para añadir cambios al índice (stage)\n",
    "+git commit: Para confirmar los cambios\n",
    "```"
   ]
  },
  {
   "cell_type": "code",
   "execution_count": null,
   "id": "a612414b",
   "metadata": {},
   "outputs": [],
   "source": [
    "# Añade los cambios en \"git-commands\" al índice\n"
   ]
  },
  {
   "cell_type": "code",
   "execution_count": null,
   "id": "1d1b2208",
   "metadata": {},
   "outputs": [],
   "source": [
    "# Muestra las diferencias entre el árbol\n",
    "# de trabajo y el índice\n"
   ]
  },
  {
   "cell_type": "markdown",
   "id": "2d4540a6",
   "metadata": {},
   "source": [
    "- ¿Por qué el comando anterior no muestra nada?\n",
    "\n",
    "RESPUESTA:"
   ]
  },
  {
   "cell_type": "code",
   "execution_count": null,
   "id": "a65a77f2",
   "metadata": {},
   "outputs": [],
   "source": [
    "# Muestra las diferencias entre el índice\n",
    "# y el repositorio  (los cambios que\n",
    "# son candidatos a ser confirmados)\n"
   ]
  },
  {
   "cell_type": "markdown",
   "id": "19e5a209",
   "metadata": {},
   "source": [
    "SALIDA:\n",
    "```bash\n",
    "diff --git a/git-commands b/git-commands\n",
    "index 5b28c00..9451c78 100644\n",
    "--- a/git-commands\n",
    "+++ b/git-commands\n",
    "@@ -1 +1,4 @@\n",
    "\n",
    " LISTA DE COMANDOS DE GIT\n",
    "+git init: Para crear un repo vacío\n",
    "+git add: Para añadir cambios al índice (stage)\n",
    "+git commit: Para confirmar los cambios\n",
    "```"
   ]
  },
  {
   "cell_type": "markdown",
   "id": "1820f25b",
   "metadata": {},
   "source": [
    "El comando anterior sí debería mostrarte las tres líneas que hemos añadido al fichero."
   ]
  },
  {
   "cell_type": "code",
   "execution_count": null,
   "id": "186e5f85",
   "metadata": {},
   "outputs": [],
   "source": [
    "# Ejecuta esta celda para añadir otra línea más:\n"
   ]
  },
  {
   "cell_type": "code",
   "execution_count": null,
   "id": "1dd9bca7",
   "metadata": {},
   "outputs": [],
   "source": [
    "# Muestra el estado del fichero \"git-commands\"\n"
   ]
  },
  {
   "cell_type": "markdown",
   "id": "b255f69d",
   "metadata": {},
   "source": [
    "SALIDA:\n",
    "```bash\n",
    "En la rama master\n",
    "Cambios a ser confirmados:\n",
    "\n",
    "  (usa \"git restore --staged <archivo>...\" para sacar del área de stage)\n",
    "\n",
    "\tmodificados:     git-commands\n",
    "Cambios no rastreados para el commit:\n",
    "\n",
    "  (usa \"git add <archivo>...\" para actualizar lo que será confirmado)\n",
    "\n",
    "  (usa \"git restore <archivo>...\" para descartar los cambios en el directorio de trabajo)\n",
    "\n",
    "\tmodificados:     git-commands\n",
    "```"
   ]
  },
  {
   "cell_type": "markdown",
   "id": "5acd58fc",
   "metadata": {},
   "source": [
    "- ¿En qué estados está el fichero `git-commands` ahora?\n",
    "\n",
    "RESPUESTA: "
   ]
  },
  {
   "cell_type": "markdown",
   "id": "7b938cbd",
   "metadata": {},
   "source": [
    "- Si ejecutamos `git commmit`, ¿qué versión del fichero se confirmará al repositorio?\n",
    "    * a) La que contiene la línea de \"git log\" \n",
    "    * b) La que **NO** contiene la línea de \"git log\"\n",
    "\n",
    "RESPUESTA (razonada): "
   ]
  },
  {
   "cell_type": "code",
   "execution_count": null,
   "id": "6b4e57db",
   "metadata": {},
   "outputs": [],
   "source": [
    "# Muestra las diferencias entre el árbol \n",
    "# de trabajo y el índice (los cambios que\n",
    "# no son candidatos a ser confirmados)\n"
   ]
  },
  {
   "cell_type": "markdown",
   "id": "6641a0dc",
   "metadata": {},
   "source": [
    "SALIDA:\n",
    "```bash\n",
    "diff --git a/git-commands b/git-commands\n",
    "index 9451c78..4ac930f 100644\n",
    "--- a/git-commands\n",
    "+++ b/git-commands\n",
    "@@ -2,3 +2,4 @@ LISTA DE COMANDOS DE GIT\n",
    " git init: Para crear un repo vacío\n",
    " git add: Para añadir cambios al índice (stage)\n",
    " git commit: Para confirmar los cambios\n",
    "+git log: Para ver el historial de commits\n",
    "```"
   ]
  },
  {
   "cell_type": "code",
   "execution_count": null,
   "id": "d97465f5",
   "metadata": {},
   "outputs": [],
   "source": [
    "# Muestra las diferencias entre el árbol \n",
    "# de trabajo y el último commit al repositorio\n"
   ]
  },
  {
   "cell_type": "markdown",
   "id": "cf69116f",
   "metadata": {},
   "source": [
    "SALIDA:\n",
    "```bash\n",
    "diff --git a/git-commands b/git-commands\n",
    "index 5b28c00..4ac930f 100644\n",
    "--- a/git-commands\n",
    "+++ b/git-commands\n",
    "@@ -1 +1,5 @@\n",
    "\n",
    " LISTA DE COMANDOS DE GIT\n",
    "+git init: Para crear un repo vacío\n",
    "+git add: Para añadir cambios al índice (stage)\n",
    "+git commit: Para confirmar los cambios\n",
    "+git log: Para ver el historial de commits\n",
    "```"
   ]
  },
  {
   "cell_type": "markdown",
   "id": "355ef646",
   "metadata": {},
   "source": [
    "Al ejecutar el comando anterior, deberías ver tanto los cambios que hay en el índice como los que todavía no han sido añadidos."
   ]
  },
  {
   "cell_type": "code",
   "execution_count": null,
   "id": "b51bf4b9",
   "metadata": {},
   "outputs": [],
   "source": [
    "# Confirma los cambios en el índice con el mensaje \"Añado tres comandos básicos (init, add, commit)\"\n"
   ]
  },
  {
   "cell_type": "markdown",
   "id": "783d9255",
   "metadata": {},
   "source": [
    "SALIDA:\n",
    "```bash\n",
    "[master ba090e5] Añado tres comandos básicos (init, add, commit)\n",
    " 1 file changed, 3 insertions(+)\n",
    "```"
   ]
  },
  {
   "cell_type": "code",
   "execution_count": null,
   "id": "139e43a1",
   "metadata": {},
   "outputs": [],
   "source": [
    "# Muestra las diferencias entre el árbol \n",
    "# de trabajo y el repositorio\n"
   ]
  },
  {
   "cell_type": "markdown",
   "id": "37bd2c55",
   "metadata": {},
   "source": [
    "SALIDA:\n",
    "```bash\n",
    "diff --git a/git-commands b/git-commands\n",
    "index 9451c78..4ac930f 100644\n",
    "--- a/git-commands\n",
    "+++ b/git-commands\n",
    "@@ -2,3 +2,4 @@ LISTA DE COMANDOS DE GIT\n",
    " git init: Para crear un repo vacío\n",
    " git add: Para añadir cambios al índice (stage)\n",
    " git commit: Para confirmar los cambios\n",
    "+git log: Para ver el historial de commits\n",
    "```"
   ]
  },
  {
   "cell_type": "code",
   "execution_count": null,
   "id": "20a071ff",
   "metadata": {},
   "outputs": [],
   "source": [
    "# Muestra el estado del fichero \"git-commands\"\n"
   ]
  },
  {
   "cell_type": "markdown",
   "id": "a326a5f2",
   "metadata": {},
   "source": [
    "SALIDA:\n",
    "```bash\n",
    "En la rama master\n",
    "\n",
    "Cambios no rastreados para el commit:\n",
    "\n",
    "  (usa \"git add <archivo>...\" para actualizar lo que será confirmado)\n",
    "\n",
    "  (usa \"git restore <archivo>...\" para descartar los cambios en el directorio de trabajo)\n",
    "\n",
    "\tmodificados:     git-commands\n",
    "    \n",
    "sin cambios agregados al commit (usa \"git add\" y/o \"git commit -a\")\n",
    "```"
   ]
  },
  {
   "cell_type": "code",
   "execution_count": null,
   "id": "b7d096d3",
   "metadata": {},
   "outputs": [],
   "source": [
    "# Añade al índice los cambios en \"git-commands\"\n"
   ]
  },
  {
   "cell_type": "code",
   "execution_count": null,
   "id": "c423a193",
   "metadata": {},
   "outputs": [],
   "source": [
    "# Confirma los cambios en el índice con el mensaje \"Añado comando log\" \n"
   ]
  },
  {
   "cell_type": "markdown",
   "id": "53e0feaf",
   "metadata": {},
   "source": [
    "SALIDA:\n",
    "```bash\n",
    "[master 809288c] Añado comando log\n",
    " 1 file changed, 1 insertion(+)\n",
    "```"
   ]
  },
  {
   "cell_type": "code",
   "execution_count": null,
   "id": "ff7ef593",
   "metadata": {},
   "outputs": [],
   "source": [
    "# Muestra el historial de commits de repositorio\n"
   ]
  },
  {
   "cell_type": "markdown",
   "id": "a64df258",
   "metadata": {},
   "source": [
    "SALIDA:\n",
    "```bash\n",
    "commit 809288ce3bc4fdd67cdbd5e53900a4eb08324f6b (HEAD -> master)\n",
    "Author: Alumno Apellido <alumno@upct.es>\n",
    "Date:   Tue Aug 13 17:19:54 2024 +0200\n",
    "    Añado comando log\n",
    "\n",
    "commit ba090e561bded60be61013f256698e334fb63b9b\n",
    "Author: Alumno Apellido <alumno@upct.es>\n",
    "Date:   Tue Aug 13 17:17:39 2024 +0200\n",
    "    Añado tres comandos básicos (init, add, commit)\n",
    "\n",
    "commit c40926a85624f26c3520489b98c7006db7ded8a6\n",
    "Author: Alumno Apellido <alumno@upct.es>\n",
    "Date:   Tue Aug 13 16:57:59 2024 +0200\n",
    "    Añadiendo fichero con lista de comandos\n",
    "```"
   ]
  },
  {
   "cell_type": "code",
   "execution_count": null,
   "id": "04b5e322",
   "metadata": {},
   "outputs": [],
   "source": [
    "# Añade al índice el contenido del directorio \"other\"\n"
   ]
  },
  {
   "cell_type": "code",
   "execution_count": null,
   "id": "7753c0e9",
   "metadata": {},
   "outputs": [],
   "source": [
    "# Muestra el estado del árbol de trabajo\n"
   ]
  },
  {
   "cell_type": "markdown",
   "id": "2fd7d439",
   "metadata": {},
   "source": [
    "SALIDA:\n",
    "```bash\n",
    "En la rama master\n",
    "Cambios a ser confirmados:\n",
    "\n",
    "  (usa \"git restore --staged <archivo>...\" para sacar del área de stage)\n",
    "\n",
    "\tnuevos archivos: other/.gitconfig\n",
    "\n",
    "```"
   ]
  },
  {
   "cell_type": "code",
   "execution_count": null,
   "id": "44774edf",
   "metadata": {},
   "outputs": [],
   "source": [
    "# Confirma los cambios en el índice con el mensaje \"Añado directorio other\"\n"
   ]
  },
  {
   "cell_type": "markdown",
   "id": "20e30293",
   "metadata": {},
   "source": [
    "SALIDA:\n",
    "```bash\n",
    "[master 78261c3] Añado directorio other\n",
    "\n",
    " 1 file changed, 3 insertions(+)\n",
    "\n",
    " create mode 100644 other/.gitconfig\n",
    "```"
   ]
  },
  {
   "cell_type": "markdown",
   "id": "1bbae4de",
   "metadata": {},
   "source": [
    "### Ubicación de un repositorio e importancia del directorio `.git`"
   ]
  },
  {
   "cell_type": "code",
   "execution_count": null,
   "id": "5a04b4d8",
   "metadata": {},
   "outputs": [],
   "source": [
    "# Sin moverte de directorio (deberías estar en \"~/p2a-ejercicio\"),\n",
    "# crea un directorio llamado \"otrorepo\"\n"
   ]
  },
  {
   "cell_type": "code",
   "execution_count": null,
   "id": "01c607d1",
   "metadata": {},
   "outputs": [],
   "source": [
    "# Cámbiate al directorio que acabas de crear\n"
   ]
  },
  {
   "cell_type": "code",
   "execution_count": null,
   "id": "9173cca1",
   "metadata": {},
   "outputs": [],
   "source": [
    "# Crea un nuevo repositorio vacío\n"
   ]
  },
  {
   "cell_type": "markdown",
   "id": "316d4a9f",
   "metadata": {},
   "source": [
    "SALIDA:\n",
    "```bash\n",
    "ayuda: Usando 'master' como el nombre de la rama inicial. Este nombre de rama predeterminado\n",
    "ayuda: está sujeto a cambios. Para configurar el nombre de la rama inicial para usar en todos\n",
    "ayuda: de sus nuevos repositorios, reprimiendo esta advertencia, llama a:\n",
    "ayuda: \n",
    "ayuda: \tgit config --global init.defaultBranch <nombre>\n",
    "ayuda: \n",
    "ayuda: Los nombres comúnmente elegidos en lugar de 'master' son 'main', 'trunk' y\n",
    "ayuda: 'development'. Se puede cambiar el nombre de la rama recién creada mediante este comando:\n",
    "ayuda: \n",
    "ayuda: \tgit branch -m <nombre>\n",
    "\n",
    "Inicializado repositorio Git vacío en /home/alumno/p2a-ejercicio/otrorepo/.git/\n",
    "```"
   ]
  },
  {
   "cell_type": "code",
   "execution_count": null,
   "id": "e32c8099",
   "metadata": {},
   "outputs": [],
   "source": [
    "# Muestra el historial de commits\n"
   ]
  },
  {
   "cell_type": "markdown",
   "id": "44615697",
   "metadata": {},
   "source": [
    "SALIDA:\n",
    "```bash\n",
    "fatal: tu rama actual 'master' no tiene ningún commit todavía\n",
    "```"
   ]
  },
  {
   "cell_type": "markdown",
   "id": "ad27b6cf",
   "metadata": {},
   "source": [
    "- ¿En qué repositorio Git estás operando ahora mismo? ¿Por qué?\n",
    "    * a) En el repositorio donde está el fichero `git-commands`\n",
    "    * b) En el repositorio vacío que acabo de crear en `otrorepo`\n",
    "   \n",
    "RESPUESTA (razonada): "
   ]
  },
  {
   "cell_type": "markdown",
   "id": "0afae419",
   "metadata": {},
   "source": [
    "- ¿Qué habría que hacer para volver a operar sobre el repositorio que contiene el fichero `git-commands`?\n",
    "\n",
    "RESPUESTA:"
   ]
  },
  {
   "cell_type": "code",
   "execution_count": null,
   "id": "299a03ba",
   "metadata": {},
   "outputs": [],
   "source": [
    "# Crea un fichero ejecutando esta celda\n",
    "echo \"Hello, world\" > hello "
   ]
  },
  {
   "cell_type": "code",
   "execution_count": null,
   "id": "11419c09",
   "metadata": {},
   "outputs": [],
   "source": [
    "# Haz que hello pase a estar en índice del repositorio que actualmente está vacío\n"
   ]
  },
  {
   "cell_type": "code",
   "execution_count": null,
   "id": "3ddccc08",
   "metadata": {},
   "outputs": [],
   "source": [
    "# Registra hello en el repositorio con el mensaje \"Añado fichero hello\"\n"
   ]
  },
  {
   "cell_type": "markdown",
   "id": "dc9e3fbc",
   "metadata": {},
   "source": [
    "SALIDA:\n",
    "```bash\n",
    "[master (commit-raíz) bdbce4c] Añado fichero hello\n",
    "\n",
    " 1 file changed, 1 insertion(+)\n",
    "\n",
    " create mode 100644 hello\n",
    "```"
   ]
  },
  {
   "cell_type": "code",
   "execution_count": null,
   "id": "171e5fe2",
   "metadata": {},
   "outputs": [],
   "source": [
    "# Muestra el historial de commits\n"
   ]
  },
  {
   "cell_type": "markdown",
   "id": "f43b41ac",
   "metadata": {},
   "source": [
    "SALIDA:\n",
    "```bash\n",
    "commit bdbce4c3ac6b8d971d2700d1bd518e6512df863c (HEAD -> master)\n",
    "Author: Alumno Apellido <alumno@upct.es>\n",
    "Date:   Tue Aug 13 17:26:37 2024 +0200\n",
    "    Añado fichero hello\n",
    "\n",
    "```"
   ]
  },
  {
   "cell_type": "markdown",
   "id": "8d94f119",
   "metadata": {},
   "source": [
    "- Indica la ruta **ABSOLUTA** al directorio `.git` del repositorio que únicamente contiene el fichero `hello`.\n",
    "\n",
    "RESPUESTA: "
   ]
  },
  {
   "cell_type": "code",
   "execution_count": null,
   "id": "f3a9d6da",
   "metadata": {},
   "outputs": [],
   "source": [
    "# Cambia al directorio padre del actual (padre de \"otrorepo\")\n"
   ]
  },
  {
   "cell_type": "code",
   "execution_count": null,
   "id": "b5a16eff",
   "metadata": {},
   "outputs": [],
   "source": [
    "# Muestra el historial de commits\n"
   ]
  },
  {
   "cell_type": "markdown",
   "id": "36c39845",
   "metadata": {},
   "source": [
    "SALIDA:\n",
    "```bash\n",
    "commit 78261c3911d66abf4c1107afe5e07413144aef8c (HEAD -> master)\n",
    "Author: Alumno Apellido <alumno@upct.es>\n",
    "Date:   Tue Aug 13 17:22:09 2024 +0200\n",
    "    Añado directorio other\n",
    "\n",
    "commit 809288ce3bc4fdd67cdbd5e53900a4eb08324f6b\n",
    "Author: Alumno Apellido <alumno@upct.es>\n",
    "Date:   Tue Aug 13 17:19:54 2024 +0200\n",
    "    Añado comando log\n",
    "\n",
    "commit ba090e561bded60be61013f256698e334fb63b9b\n",
    "Author: Alumno Apellido <alumno@upct.es>\n",
    "Date:   Tue Aug 13 17:17:39 2024 +0200\n",
    "    Añado tres comandos básicos (init, add, commit)\n",
    "\n",
    "commit c40926a85624f26c3520489b98c7006db7ded8a6\n",
    "Author: Alumno Apellido <alumno@upct.es>\n",
    "Date:   Tue Aug 13 16:57:59 2024 +0200\n",
    "    Añadiendo fichero con lista de comandos\n",
    "\n",
    "```"
   ]
  },
  {
   "cell_type": "markdown",
   "id": "a6a09e3a",
   "metadata": {},
   "source": [
    "- A la vista de la salida de `git log`, ¿en qué repositorio estás operando ahora? Indica la ruta **ABSOLUTA** a su directorio `.git`.\n",
    "\n",
    "RESPUESTA: \n"
   ]
  },
  {
   "cell_type": "markdown",
   "id": "ed327b0b",
   "metadata": {},
   "source": [
    "- A la vista de todo lo anterior, explica por qué es posible tener varios repositorios Git ubicados dentro del mismo directorio en el sistema de ficheros:\n",
    "\n",
    "RESPUESTA: "
   ]
  },
  {
   "cell_type": "code",
   "execution_count": null,
   "id": "fc6ba897",
   "metadata": {},
   "outputs": [],
   "source": [
    "# Mueve el directorio \"otrorepo\" a \n",
    "# tu directorio personal ($HOME o ~)\n"
   ]
  },
  {
   "cell_type": "code",
   "execution_count": null,
   "id": "5a7881d4",
   "metadata": {},
   "outputs": [],
   "source": [
    "# Cámbiate al directorio \"otrorepo\"\n",
    "# en su nueva ubicación\n"
   ]
  },
  {
   "cell_type": "code",
   "execution_count": null,
   "id": "4026d782",
   "metadata": {},
   "outputs": [],
   "source": [
    "# Muestra el historial de commits\n"
   ]
  },
  {
   "cell_type": "markdown",
   "id": "967743ad",
   "metadata": {},
   "source": [
    "SALIDA:\n",
    "```bash\n",
    "commit bdbce4c3ac6b8d971d2700d1bd518e6512df863c (HEAD -> master)\n",
    "Author: Alumno Apellido <alumno@upct.es>\n",
    "Date:   Tue Aug 13 17:26:37 2024 +0200\n",
    "    Añado fichero hello\n",
    "```"
   ]
  },
  {
   "cell_type": "markdown",
   "id": "f23c34ba",
   "metadata": {},
   "source": [
    "- A la vista de la salida de `git log`, ¿es posible cambiar la ubicación o el nombre del directorio donde está el árbol de trabajo de un repositorio?\n",
    "\n",
    "RESPUESTA: "
   ]
  },
  {
   "cell_type": "code",
   "execution_count": null,
   "id": "b00f3152",
   "metadata": {},
   "outputs": [],
   "source": [
    "# Crea un directorio nuevo en \"~/Descargas/testrepo\"\n"
   ]
  },
  {
   "cell_type": "code",
   "execution_count": null,
   "id": "3ed7277e",
   "metadata": {},
   "outputs": [],
   "source": [
    "# Cámbiate al directorio que acabas de crear\n"
   ]
  },
  {
   "cell_type": "code",
   "execution_count": null,
   "id": "d529a372",
   "metadata": {},
   "outputs": [],
   "source": [
    "# Ejecuta el siguiente comando:\n"
   ]
  },
  {
   "cell_type": "markdown",
   "id": "32af943e",
   "metadata": {},
   "source": [
    "- ¿Hay algún repositorio Git en este directorio (o alguno de sus ancestros)?\n",
    "\n",
    "RESPUESTA: "
   ]
  },
  {
   "cell_type": "code",
   "execution_count": null,
   "id": "ba2aa53d",
   "metadata": {},
   "outputs": [],
   "source": [
    "# Regresa al directorio \"otrorepo\"\n"
   ]
  },
  {
   "cell_type": "code",
   "execution_count": null,
   "id": "522a34b5",
   "metadata": {},
   "outputs": [],
   "source": [
    "# Mueve el directorio \".git\" del directorio \"otrorepo\" al directorio \"~/Descargas/testrepo\"\n"
   ]
  },
  {
   "cell_type": "code",
   "execution_count": null,
   "id": "44ecaaa6",
   "metadata": {},
   "outputs": [],
   "source": [
    "# Muestra el historial de commits\n"
   ]
  },
  {
   "cell_type": "markdown",
   "id": "a210ca38",
   "metadata": {},
   "source": [
    "SALIDA:\n",
    "```bash\n",
    "fatal: no es un repositorio git (ni ninguno de los directorios superiores): .git\n",
    "```"
   ]
  },
  {
   "cell_type": "markdown",
   "id": "f3abbe40",
   "metadata": {},
   "source": [
    "- ¿Qué ha ocurrido al mover (eliminar) el directorio `.git` del directorio  `otrorepo`?\n",
    "\n",
    "RESPUESTA: "
   ]
  },
  {
   "cell_type": "code",
   "execution_count": null,
   "id": "5813ab38",
   "metadata": {},
   "outputs": [],
   "source": [
    "# Cámbiate al directorio \"~/Descargas/testrepo\"\n"
   ]
  },
  {
   "cell_type": "code",
   "execution_count": null,
   "id": "156c26cf",
   "metadata": {},
   "outputs": [],
   "source": [
    "# Lista el contenido del directorio actual\n"
   ]
  },
  {
   "cell_type": "markdown",
   "id": "3c6f4580",
   "metadata": {},
   "source": [
    "SALIDA:\n",
    "```bash\n",
    "```"
   ]
  },
  {
   "cell_type": "markdown",
   "id": "647c25b3",
   "metadata": {},
   "source": [
    "No debería haber ningún fichero en directorio actual."
   ]
  },
  {
   "cell_type": "code",
   "execution_count": null,
   "id": "c5085038",
   "metadata": {},
   "outputs": [],
   "source": [
    "# Ejecuta el siguiente comando\n"
   ]
  },
  {
   "cell_type": "markdown",
   "id": "55872711",
   "metadata": {},
   "source": [
    "SALIDA:\n",
    "```bash\n",
    "En la rama master\n",
    "Cambios no rastreados para el commit:\n",
    "\n",
    "  (usa \"git add/rm <archivo>...\" para actualizar a lo que se le va a hacer commit)\n",
    "\n",
    "  (usa \"git restore <archivo>...\" para descartar los cambios en el directorio de trabajo)\n",
    "\n",
    "\tborrados:        hello\n",
    "sin cambios agregados al commit (usa \"git add\" y/o \"git commit -a\"\n",
    "```"
   ]
  },
  {
   "cell_type": "code",
   "execution_count": null,
   "id": "b2be8c8d",
   "metadata": {},
   "outputs": [],
   "source": [
    "# Restaura el fichero \"hello\"\n"
   ]
  },
  {
   "cell_type": "code",
   "execution_count": null,
   "id": "ec7ec849",
   "metadata": {},
   "outputs": [],
   "source": [
    "# Lista el contenido del directorio actual\n"
   ]
  },
  {
   "cell_type": "markdown",
   "id": "5d0f3e25",
   "metadata": {},
   "source": [
    "SALIDA:\n",
    "```bash\n",
    "hello\n",
    "```"
   ]
  },
  {
   "cell_type": "markdown",
   "id": "9a8ec5a2",
   "metadata": {},
   "source": [
    "- ¿Dónde se almacena la información que Git usa para ser capaz de restaurar el fichero \"hello\" de la celda anterior?\n",
    "\n",
    "RESPUESTA: "
   ]
  },
  {
   "cell_type": "markdown",
   "id": "db4ef628",
   "metadata": {},
   "source": [
    "Finalmente, elimina el directorio de prueba que hemos utilizado en este ejercicio."
   ]
  },
  {
   "cell_type": "code",
   "execution_count": null,
   "id": "eff77a64",
   "metadata": {},
   "outputs": [],
   "source": [
    "# Regresa al directorio \"~/p2a-ejercicio\"\n"
   ]
  },
  {
   "cell_type": "code",
   "execution_count": null,
   "id": "418e7569",
   "metadata": {},
   "outputs": [],
   "source": [
    "# Elimina el directorio \"~/Descargas/testrepo\" y el repositorio\n"
   ]
  },
  {
   "cell_type": "code",
   "execution_count": null,
   "id": "e733fa76",
   "metadata": {},
   "outputs": [],
   "source": [
    "# Elimina el directorio \"~/otrorepo\"\n"
   ]
  },
  {
   "cell_type": "markdown",
   "id": "5b2dd672",
   "metadata": {},
   "source": [
    "### Reorganizar el repositorio moviendo y borrando ficheros"
   ]
  },
  {
   "cell_type": "code",
   "execution_count": null,
   "id": "ce84031d",
   "metadata": {},
   "outputs": [],
   "source": [
    "# Cambia el nombre al fichero \"git-commands\"\n",
    "# para que pase a llamarse \"git-commands.txt\"\n",
    "# en el repositorio\n"
   ]
  },
  {
   "cell_type": "code",
   "execution_count": null,
   "id": "eea9aa60",
   "metadata": {},
   "outputs": [],
   "source": [
    "# Muestra el estado del árbol de trabajo\n"
   ]
  },
  {
   "cell_type": "markdown",
   "id": "3aa3c18e",
   "metadata": {},
   "source": [
    "SALIDA:\n",
    "```bash\n",
    "En la rama master\n",
    "Cambios a ser confirmados:\n",
    "\n",
    "  (usa \"git restore --staged <archivo>...\" para sacar del área de stage)\n",
    "\n",
    "\trenombrados:     git-commands -> git-commands.txt\n",
    "```"
   ]
  },
  {
   "cell_type": "code",
   "execution_count": null,
   "id": "b7d66d3a",
   "metadata": {},
   "outputs": [],
   "source": [
    "# Confirma el cambio de nombre con el mensaje \"Renombrando fichero de comandos\"\n"
   ]
  },
  {
   "cell_type": "markdown",
   "id": "addec563",
   "metadata": {},
   "source": [
    "SALIDA:\n",
    "```bash\n",
    "[master 16f0d54] Renombrando fichero de comandos\n",
    " 1 file changed, 0 insertions(+), 0 deletions(-)\n",
    " rename git-commands => git-commands.txt (100%)\n",
    "```"
   ]
  },
  {
   "cell_type": "code",
   "execution_count": null,
   "id": "f1c77081",
   "metadata": {},
   "outputs": [],
   "source": [
    "# Crea un directorio llamado \"notas\"\n"
   ]
  },
  {
   "cell_type": "code",
   "execution_count": null,
   "id": "74e4872b",
   "metadata": {},
   "outputs": [],
   "source": [
    "# Mueve el fichero \"git-commands.txt\" para que\n",
    "# pase a estar ubicado en el directorio \"notas\"\n",
    "# y siga perteneciendo al repositorio\n"
   ]
  },
  {
   "cell_type": "code",
   "execution_count": null,
   "id": "19447328",
   "metadata": {},
   "outputs": [],
   "source": [
    "# Muestra el estado del árbol de trabajo\n"
   ]
  },
  {
   "cell_type": "markdown",
   "id": "a245ca47",
   "metadata": {},
   "source": [
    "SALIDA:\n",
    "```bash\n",
    "En la rama master\n",
    "Cambios a ser confirmados:\n",
    "  (usa \"git restore --staged <archivo>...\" para sacar del área de stage)\n",
    "\trenombrados:     git-commands.txt -> notas/git-commands.txt\n",
    "```"
   ]
  },
  {
   "cell_type": "code",
   "execution_count": null,
   "id": "0f9662cf",
   "metadata": {},
   "outputs": [],
   "source": [
    "# Confirma el cambio de ubicación del fichero con el mensaje \"Reubicando el fichero de comandos a otro directorio\"\n"
   ]
  },
  {
   "cell_type": "markdown",
   "id": "ade184ae",
   "metadata": {},
   "source": [
    "SALIDA:\n",
    "```bash\n",
    "[master d5f433d] Reubicando el fichero de comandos a otro directorio\n",
    " 1 file changed, 0 insertions(+), 0 deletions(-)\n",
    " rename git-commands.txt => notas/git-commands.txt (100%)\n",
    "```"
   ]
  },
  {
   "cell_type": "code",
   "execution_count": null,
   "id": "f939ff7e",
   "metadata": {},
   "outputs": [],
   "source": [
    "# Elimina recursivamente todos los ficheros \n",
    "# del directorio \"other\" del repositorio\n",
    "# PISTA: usa opción '-r'\n"
   ]
  },
  {
   "cell_type": "markdown",
   "id": "7e04c7ba",
   "metadata": {},
   "source": [
    "SALIDA:\n",
    "```bash\n",
    "rm 'other/.gitconfig'\n",
    "```"
   ]
  },
  {
   "cell_type": "code",
   "execution_count": null,
   "id": "ef57e593",
   "metadata": {},
   "outputs": [],
   "source": [
    "# Muestra el estado del árbol de trabajo\n"
   ]
  },
  {
   "cell_type": "markdown",
   "id": "29c890ee",
   "metadata": {},
   "source": [
    "SALIDA:\n",
    "```bash\n",
    "En la rama master\n",
    "Cambios a ser confirmados:\n",
    "\n",
    "  (usa \"git restore --staged <archivo>...\" para sacar del área de stage)\n",
    "\tborrados:        other/.gitconfig\n",
    "```"
   ]
  },
  {
   "cell_type": "code",
   "execution_count": null,
   "id": "447c7cf1",
   "metadata": {},
   "outputs": [],
   "source": [
    "# Confirma la eliminación con el mensaje \"Elimino todos los ficheros del directorio other\" \n"
   ]
  },
  {
   "cell_type": "markdown",
   "id": "0a1fe1b5",
   "metadata": {},
   "source": [
    "SALIDA:\n",
    "```bash\n",
    "[master a380e0e] Elimino todos los ficheros del directorio other\n",
    " 1 file changed, 3 deletions(-)\n",
    " delete mode 100644 other/.gitconfig\n",
    "```"
   ]
  },
  {
   "cell_type": "markdown",
   "id": "f9b3eb5f",
   "metadata": {},
   "source": [
    "### Restaurar ficheros a su estado anterior, deshacer cambios y volver a versiones anteriores"
   ]
  },
  {
   "cell_type": "code",
   "execution_count": null,
   "id": "a49b188b",
   "metadata": {},
   "outputs": [],
   "source": [
    "# Ejecuta esta celda para crear un fichero\n"
   ]
  },
  {
   "cell_type": "code",
   "execution_count": null,
   "id": "e2f029a2",
   "metadata": {},
   "outputs": [],
   "source": [
    "# Añade el fichero `git-tricks` al índice\n"
   ]
  },
  {
   "cell_type": "code",
   "execution_count": null,
   "id": "07aa5d97",
   "metadata": {},
   "outputs": [],
   "source": [
    "# Muestra el estado de `git-tricks` en el árbol de trabajo\n"
   ]
  },
  {
   "cell_type": "markdown",
   "id": "e8a6fb12",
   "metadata": {},
   "source": [
    "SALIDA:\n",
    "```bash\n",
    "En la rama master\n",
    "Cambios a ser confirmados:\n",
    "  (usa \"git restore --staged <archivo>...\" para sacar del área de stage)\n",
    "\tnuevos archivos: git-tricks\n",
    "```"
   ]
  },
  {
   "cell_type": "code",
   "execution_count": null,
   "id": "b06af84e",
   "metadata": {},
   "outputs": [],
   "source": [
    "# Saca \"git-tricks\" del índice para que vuelva a estar \n",
    "# en estado \"ignorado\" (sin seguimiento)\n"
   ]
  },
  {
   "cell_type": "code",
   "execution_count": null,
   "id": "d7dcb84a",
   "metadata": {},
   "outputs": [],
   "source": [
    "# Muestra el estado de `git-tricks` en el árbol de trabajo\n"
   ]
  },
  {
   "cell_type": "markdown",
   "id": "b27b1096",
   "metadata": {},
   "source": [
    "SALIDA:\n",
    "```bash\n",
    "En la rama master\n",
    "Archivos sin seguimiento:\n",
    "\n",
    "  (usa \"git add <archivo>...\" para incluirlo a lo que se será confirmado)\n",
    "\n",
    "\tgit-tricks\n",
    "\n",
    "no hay nada agregado al commit pero hay archivos sin seguimiento presentes (usa \"git add\" para hacerles seguimiento)\n",
    "```"
   ]
  },
  {
   "cell_type": "code",
   "execution_count": null,
   "id": "c968bec1",
   "metadata": {},
   "outputs": [],
   "source": [
    "# Haz que \"git-tricks\" pase estar en el repositorio\n",
    "# Paso 1\n"
   ]
  },
  {
   "cell_type": "code",
   "execution_count": null,
   "id": "0334a19b",
   "metadata": {},
   "outputs": [],
   "source": [
    "# Paso 2\n"
   ]
  },
  {
   "cell_type": "markdown",
   "id": "c2335027",
   "metadata": {},
   "source": [
    "SALIDA:\n",
    "```bash\n",
    "[master ddbe77c] Añado fichero con trucos\n",
    " 1 file changed, 1 insertion(+)\n",
    " create mode 100644 git-tricks\n",
    "```"
   ]
  },
  {
   "cell_type": "code",
   "execution_count": null,
   "id": "42cdb955",
   "metadata": {},
   "outputs": [],
   "source": [
    "# Modifica el contenido del fichero ejecutando esta celda\n",
    "echo \"- Hacer directamente 'git commit FICHERO' sin añadir al índice\" >> git-tricks                 "
   ]
  },
  {
   "cell_type": "code",
   "execution_count": null,
   "id": "60cbf09e",
   "metadata": {},
   "outputs": [],
   "source": [
    "# Muestra el estado de `git-tricks` en el árbol de trabajo\n"
   ]
  },
  {
   "cell_type": "markdown",
   "id": "049a652c",
   "metadata": {},
   "source": [
    "SALIDA:\n",
    "```bash\n",
    "En la rama master\n",
    "\n",
    "Cambios no rastreados para el commit:\n",
    "\n",
    "  (usa \"git add <archivo>...\" para actualizar lo que será confirmado)\n",
    "\n",
    "  (usa \"git restore <archivo>...\" para descartar los cambios en el directorio de trabajo)\n",
    "\n",
    "\tmodificados:     git-tricks\n",
    "\n",
    "sin cambios agregados al commit (usa \"git add\" y/o \"git commit -a\")\n",
    "```"
   ]
  },
  {
   "cell_type": "code",
   "execution_count": null,
   "id": "a0b1e696",
   "metadata": {},
   "outputs": [],
   "source": [
    "# Muestra los cambios en `git-tricks` en el árbol de trabajo\n"
   ]
  },
  {
   "cell_type": "markdown",
   "id": "5332bfba",
   "metadata": {},
   "source": [
    "SALIDA:\n",
    "```bash\n",
    "diff --git a/git-tricks b/git-tricks\n",
    "index 3193965..047511c 100644\n",
    "--- a/git-tricks\n",
    "+++ b/git-tricks\n",
    "@@ -1 +1,2 @@\n",
    "\n",
    " Algunos trucos\n",
    "\n",
    "+- Hacer directamente 'git commit FICHERO' sin añadir al índice\n",
    "```"
   ]
  },
  {
   "cell_type": "code",
   "execution_count": null,
   "id": "6c36abf7",
   "metadata": {},
   "outputs": [],
   "source": [
    "# Descarta los cambios que hayas realizado en \"git-tricks\"\n",
    "# para que vuelva a estar en estado \"no modificado\"\n"
   ]
  },
  {
   "cell_type": "code",
   "execution_count": null,
   "id": "547ebd9c",
   "metadata": {},
   "outputs": [],
   "source": [
    "# Muestra los cambios en `git-tricks` en el árbol de trabajo\n",
    "g"
   ]
  },
  {
   "cell_type": "markdown",
   "id": "7309a919",
   "metadata": {},
   "source": [
    "SALIDA:\n",
    "```bash\n",
    "```"
   ]
  },
  {
   "cell_type": "code",
   "execution_count": null,
   "id": "68b1a7ba",
   "metadata": {},
   "outputs": [],
   "source": [
    "# Modifica de nuevo el contenido del fichero ejecutando esta celda\n",
    "echo \"- Hacer directamente 'git commit FICHERO' sin añadir al índice\" >> git-tricks                 "
   ]
  },
  {
   "cell_type": "code",
   "execution_count": null,
   "id": "92246666",
   "metadata": {},
   "outputs": [],
   "source": [
    "# Muestra el estado de `git-tricks` en el árbol de trabajo\n"
   ]
  },
  {
   "cell_type": "markdown",
   "id": "9801733c",
   "metadata": {},
   "source": [
    "SALIDA:\n",
    "```bash\n",
    "En la rama master\n",
    "\n",
    "Cambios no rastreados para el commit:\n",
    "\n",
    "  (usa \"git add <archivo>...\" para actualizar lo que será confirmado)\n",
    "\n",
    "  (usa \"git restore <archivo>...\" para descartar los cambios en el directorio de trabajo)\n",
    "\n",
    "\tmodificados:     git-tricks\n",
    "\n",
    "sin cambios agregados al commit (usa \"git add\" y/o \"git commit -a\")\n",
    "```"
   ]
  },
  {
   "cell_type": "code",
   "execution_count": null,
   "id": "13d9eaad",
   "metadata": {},
   "outputs": [],
   "source": [
    "# Prueba a confirmar directamente la versión \n",
    "# actual de `git-tricks` al repositorio\n",
    "# (sin pasar por el índice)\n"
   ]
  },
  {
   "cell_type": "markdown",
   "id": "474a5a7c",
   "metadata": {},
   "source": [
    "SALIDA:\n",
    "```bash\n",
    "[master 5e3c4d7] Añado primer truco de Git\n",
    " 1 file changed, 1 insertion(+)\n",
    "```"
   ]
  },
  {
   "cell_type": "code",
   "execution_count": null,
   "id": "4f4c1e90",
   "metadata": {},
   "outputs": [],
   "source": [
    "# Muestra el estado de `git-tricks` en el árbol de trabajo\n"
   ]
  },
  {
   "cell_type": "markdown",
   "id": "4fcd6fd4",
   "metadata": {},
   "source": [
    "SALIDA:\n",
    "```bash\n",
    "En la rama master\n",
    "nada para hacer commit, el árbol de trabajo está limpio\n",
    "```"
   ]
  },
  {
   "cell_type": "markdown",
   "id": "16d2f593",
   "metadata": {},
   "source": [
    "### Mostrar diferencias entre versiones del repositorio"
   ]
  },
  {
   "cell_type": "code",
   "execution_count": null,
   "id": "95d3112b",
   "metadata": {},
   "outputs": [],
   "source": [
    "# Muestra el historial de commits\n"
   ]
  },
  {
   "cell_type": "markdown",
   "id": "f8aa3996",
   "metadata": {},
   "source": [
    "SALIDA:\n",
    "```bash\n",
    "ommit 5e3c4d79deabf97edf9447d876b47dfca014e6dd (HEAD -> master)\n",
    "Author: Alumno Apellido <alumno@upct.es>\n",
    "Date:   Tue Aug 13 17:46:53 2024 +0200\n",
    "    Añado primer truco de Git\n",
    "\n",
    "commit ddbe77c7e2c2446a46948dbe929dad5073f1c141\n",
    "Author: Alumno Apellido <alumno@upct.es>\n",
    "Date:   Tue Aug 13 17:43:51 2024 +0200\n",
    "    Añado fichero con trucos\n",
    "\n",
    "commit a380e0e0c895a0e07669097aa4e16208d2b328a8\n",
    "Author: Alumno Apellido <alumno@upct.es>\n",
    "Date:   Tue Aug 13 17:41:41 2024 +0200\n",
    "    Elimino todos los ficheros del directorio other\n",
    "\n",
    "commit d5f433dbbccad60e45c8a20e4a95e99be87974f0\n",
    "Author: Alumno Apellido <alumno@upct.es>\n",
    "Date:   Tue Aug 13 17:40:22 2024 +0200\n",
    "    Reubicando el fichero de comandos a otro directorio\n",
    "    \n",
    "commit 16f0d5493819541499f6793c3f3e8e00c20b17c9\n",
    "Author: Alumno Apellido <alumno@upct.es>\n",
    "Date:   Tue Aug 13 17:38:48 2024 +0200\n",
    "    Renombrando fichero de comandos\n",
    "\n",
    "commit 78261c3911d66abf4c1107afe5e07413144aef8c\n",
    "Author: Alumno Apellido <alumno@upct.es>\n",
    "Date:   Tue Aug 13 17:22:09 2024 +0200\n",
    "    Añado directorio other\n",
    "\n",
    "commit 809288ce3bc4fdd67cdbd5e53900a4eb08324f6b\n",
    "Author: Alumno Apellido <alumno@upct.es>\n",
    "Date:   Tue Aug 13 17:19:54 2024 +0200\n",
    "    Añado comando log\n",
    "\n",
    "commit ba090e561bded60be61013f256698e334fb63b9b\n",
    "Author: Alumno Apellido <alumno@upct.es>\n",
    "Date:   Tue Aug 13 17:17:39 2024 +0200\n",
    "    Añado tres comandos básicos (init, add, commit)\n",
    "\n",
    "commit c40926a85624f26c3520489b98c7006db7ded8a6\n",
    "Author: Alumno Apellido <alumno@upct.es>\n",
    "Date:   Tue Aug 13 16:57:59 2024 +0200\n",
    "    Añadiendo fichero con lista de comandos\n",
    "\n",
    "```"
   ]
  },
  {
   "cell_type": "code",
   "execution_count": null,
   "id": "0199a617",
   "metadata": {},
   "outputs": [],
   "source": [
    "# Muestra las diferencias entre el primer\n",
    "# y el segundo commit al repositorio\n"
   ]
  },
  {
   "cell_type": "markdown",
   "id": "0f5b403a",
   "metadata": {},
   "source": [
    "SALIDA:\n",
    "```bash\n",
    "diff --git a/git-commands b/git-commands\n",
    "\n",
    "index 5b28c00..9451c78 100644\n",
    "\n",
    "--- a/git-commands\n",
    "\n",
    "+++ b/git-commands\n",
    "\n",
    "@@ -1 +1,4 @@\n",
    "\n",
    " LISTA DE COMANDOS DE GIT\n",
    "\n",
    "+git init: Para crear un repo vacío\n",
    "\n",
    "+git add: Para añadir cambios al índice (stage)\n",
    "\n",
    "+git commit: Para confirmar los cambios\n",
    "\n",
    "```"
   ]
  },
  {
   "cell_type": "code",
   "execution_count": null,
   "id": "9167a4fd",
   "metadata": {},
   "outputs": [],
   "source": [
    "# Muestra las diferencias entre el segundo\n",
    "# y el tercer commit al repositorio\n"
   ]
  },
  {
   "cell_type": "markdown",
   "id": "4707ab96",
   "metadata": {},
   "source": [
    "SALIDA:\n",
    "```bash\n",
    "diff --git a/git-commands b/git-commands\n",
    "\n",
    "index 9451c78..4ac930f 100644\n",
    "\n",
    "--- a/git-commands\n",
    "\n",
    "+++ b/git-commands\n",
    "\n",
    "@@ -2,3 +2,4 @@ LISTA DE COMANDOS DE GIT\n",
    "\n",
    " git init: Para crear un repo vacío\n",
    "\n",
    " git add: Para añadir cambios al índice (stage)\n",
    "\n",
    " git commit: Para confirmar los cambios\n",
    "\n",
    "+git log: Para ver el historial de commits\n",
    "\n",
    "\n",
    "```"
   ]
  },
  {
   "cell_type": "code",
   "execution_count": null,
   "id": "c294e50c",
   "metadata": {},
   "outputs": [],
   "source": [
    "# Muestra las diferencias entre el primer\n",
    "# y el tercer commit al repositorio\n"
   ]
  },
  {
   "cell_type": "markdown",
   "id": "7fa7088b",
   "metadata": {},
   "source": [
    "SALIDA:\n",
    "```bash\n",
    "diff --git a/git-commands b/git-commands\n",
    "\n",
    "index 5b28c00..4ac930f 100644\n",
    "\n",
    "--- a/git-commands\n",
    "\n",
    "+++ b/git-commands\n",
    "\n",
    "@@ -1 +1,5 @@\n",
    "\n",
    " LISTA DE COMANDOS DE GIT\n",
    "\n",
    "+git init: Para crear un repo vacío\n",
    "\n",
    "+git add: Para añadir cambios al índice (stage)\n",
    "\n",
    "+git commit: Para confirmar los cambios\n",
    "\n",
    "+git log: Para ver el historial de commits\n",
    "\n",
    "```"
   ]
  },
  {
   "cell_type": "markdown",
   "id": "c2f1cd02",
   "metadata": {},
   "source": [
    "<br>\n",
    "<font size=\"5\">  \n",
    "    <span style=\"color: red;\">RECUERDA: Debes guardar este notebook al terminar (CTRL+S) y confirmar los cambios en dicho fichero a tu repositorio-bitácora \"fc-alumno\"\n",
    "    </span>\n",
    "</font>\n"
   ]
  },
  {
   "cell_type": "code",
   "execution_count": null,
   "id": "e4c04c95",
   "metadata": {},
   "outputs": [],
   "source": [
    "cd ~/fc-alumno"
   ]
  },
  {
   "cell_type": "code",
   "execution_count": null,
   "id": "262017f8",
   "metadata": {},
   "outputs": [],
   "source": [
    "git add notebook-practica2-ejercicios.ipynb"
   ]
  },
  {
   "cell_type": "code",
   "execution_count": null,
   "id": "21667abf",
   "metadata": {},
   "outputs": [],
   "source": [
    "git commit -m \"Trabajando en los ejercicios de la práctica 2\""
   ]
  },
  {
   "cell_type": "markdown",
   "id": "f69df1ef",
   "metadata": {},
   "source": [
    "<br>\n",
    "<font size=\"5\">  \n",
    "    <span style=\"color: red;\">Cuando hayas finalizado todos los ejercicios, debes publicar los cambios confirmados en tu repositorio remoto para entregarlos al profesor \n",
    "    </span>\n",
    "</font>"
   ]
  },
  {
   "cell_type": "code",
   "execution_count": null,
   "id": "74e1950b",
   "metadata": {
    "vscode": {
     "languageId": "plaintext"
    }
   },
   "outputs": [],
   "source": [
    "git push"
   ]
  }
 ],
 "metadata": {
  "kernelspec": {
   "display_name": "Bash",
   "language": "bash",
   "name": "bash"
  },
  "language_info": {
   "codemirror_mode": "shell",
   "file_extension": ".sh",
   "mimetype": "text/x-sh",
   "name": "bash"
  },
  "toc": {
   "base_numbering": "1",
   "nav_menu": {},
   "number_sections": true,
   "sideBar": true,
   "skip_h1_title": true,
   "title_cell": "Table of Contents",
   "title_sidebar": "Contents",
   "toc_cell": false,
   "toc_position": {
    "height": "calc(100% - 180px)",
    "left": "10px",
    "top": "150px",
    "width": "296px"
   },
   "toc_section_display": true,
   "toc_window_display": true
  }
 },
 "nbformat": 4,
 "nbformat_minor": 5
}
